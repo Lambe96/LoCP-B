{
 "cells": [
  {
   "cell_type": "markdown",
   "metadata": {},
   "source": [
    "<img align=\"right\" src=\"images/Logo_Università_Padova.png\" alt=\"Drawing\" style=\"width: 300px\"/>\n",
    "<img align=\"right\" src=\"images/Logo_Physics_of_Data.jpg\" alt=\"Drawing\" style=\"width: 135px\"/>\n",
    "\n",
    "# LCP Project: Classify Black Hole Merger\n",
    "<br>\n",
    "<br>\n",
    "\n",
    "**Title**: Analyze Large Data Sets of Simulated Binary Star Evolution to Classify Black Hole Merger.\n",
    "\n",
    "**Authors**: Alessandro Lambertini, Michele Guadagnini, Alice Pagano and Michele Puppin\n",
    "\n",
    "<br>\n",
    "\n",
    "### Abstract\n",
    "\n",
    "Recently, Ligo and Virgo detections has proved the existence of Binary Black Holes systems. Therefore, it is fundamental to investigate what are the formation channels of these compact objects binaries. Several physical processes, such as mass transfer and Common Envelope, and stars composition parameters, such as metallicity, can affect the formation of Binary Black Hole systems.\n",
    "In order to highlight relevant trends and correlations in Binary Black Holes formation, we analyze data simulated with the population synthesis code MOBSE focusing on the parameters of our interest.  \n",
    "\n",
    "*July 22, 2020*"
   ]
  },
  {
   "cell_type": "markdown",
   "metadata": {},
   "source": [
    "<br>\n",
    "<br>\n",
    "\n",
    "### Index<a class=\"anchor\" id=\"index\"></a>\n",
    "* 1. [**Introduction**](#1.)\n",
    "* 2. [**Description of the dataset**](#2.)\n",
    "* 3. [**Data analysis**](#3.)\n",
    "* 4. [**Analysis of file “merger.out”**](#4.)\n",
    "    * 4.1. [**Distribution of masses**](#4.1.)\n",
    "    * 4.2. [**Distribution of mass ratios**](#4.2.)\n",
    "    * 4.3. [**Distribution of merging times**](#4.3.)\n",
    "    * 4.4. [**Fraction of flipped masses**](#4.4.)\n",
    "* 5. [**Analysis of file “evol_merger.out”**](#5.)\n",
    "    * 5.1. [**Fraction of CE BH system**](#5.1.)\n",
    "    * 5.2. [**Distribution of masses**](#5.2.)\n",
    "    * 5.3. [**Distribution of merging times**](#5.3.)\n",
    "    * 5.4. [**Distribution of mass ratios**](#5.4.)\n",
    "    * 5.5. [**Scatter plot of initial and final masses**](#5.5.)\n",
    "    * 5.6. [**Distribution of semi-major axis**](#5.6.)\n",
    "* 6. [**Conclusions**](#6.)"
   ]
  },
  {
   "cell_type": "markdown",
   "metadata": {},
   "source": [
    "<br>\n",
    "<br>\n",
    "<br>\n",
    "\n",
    "## 1. Introduction<a class=\"anchor\" id=\"1.\"></a>\n",
    "* [Index](#index)\n",
    "\n",
    "Predicted by Einstein’s theory of General Relativity at the beginning the 20th-century, the first direct observation of gravitational waves occurred in 2015, when the merger of two Black Holes has been detected by the LIGO interferometers. This event, named GW150914, confirmed the existence of Binary Black Holes systems and provided the first quite unexpected observations of stellar-origin Black Holes with mass greater than $20 M_\\odot$. The new information provided by this and the following detections can help to improve the current models of compact objects formation and evolution.\n",
    "Most of massive stars in universe are in binary systems. The final part of the in-spiral phase and the merger phase of these systems is the main source of gravitational waves that are strong enough to be detected by the interferometers on Earth. Since many processes can affect the evolution of these systems, the formation channels of compact object binaries are still being investigated. In this project we focus on Binary Black Holes systems made of two stars that form from the same cloud of mat- ter and evolve into two compact objects gravitationally bound."
   ]
  },
  {
   "cell_type": "markdown",
   "metadata": {},
   "source": [
    "<br>\n",
    "\n",
    "## 2. Description of the dataset <a class=\"anchor\" id=\"2.\"></a>\n",
    "* [Index](#index)\n",
    "\n",
    "The population synthesis code used for the simulated data-set build-up process is the MOBSE, which stand for Massive Objects in Binary Stellar Evolution. MOBSE is an up-to-date version of one of the most common population synthesis code, BSE. In the code every system is an isolated one (i.e. no interactions with objects outside the system). The main features of the model are an accurate description of the metal-dependency of stellar winds, the dependence of stellar winds on the Eddington factor and new prescription for core-collapse SNe.\n",
    "\n",
    "The dataset contains a set of population synthesis runs with three different parameters:\n",
    "\n",
    "* **fMT** is the Roche Lobe mass transfer efficiency, whose values under study are 0.1, 0.2, 0.3, 0.4, 0.5, 0.7 and 1;\n",
    "* $\\pmb{\\alpha}$ is the energy removal efficiency (we consider only $\\alpha=5$);\n",
    "* **metal** is the metallicity of the star. The simulation is done on the following values: 0.0002, 0.0004, 0.0008, 0.0012, 0.0016, 0.002, 0.004, 0.006, 0.008, 0.012, 0.016 and 0.02.\n",
    "\n",
    "Moreover, each population synthesis run is organized in different chunks. \n",
    "Each run represents the evolution in time of binary systems for which many pieces of information are stored, among these the main are:\n",
    "* the ID of the binary system;\n",
    "* the current type of the two stars, possible types start from a main sequence star to a compact object;\n",
    "* the current mass of the two objects;\n",
    "* the information of the current status of the binary, from the begin to the end of the simulation. "
   ]
  },
  {
   "cell_type": "markdown",
   "metadata": {},
   "source": [
    "<br>\n",
    "\n",
    "## 3. Data analysis<a class=\"anchor\" id=\"3.\"></a>\n",
    "* [Index](#index)\n",
    "\n",
    "We merge the data in the five different chunks for every metallicity and every fMT. \n",
    "For higher metallicities we expect to have few Binary Black Holes systems due to the fact that at higher metallicity stellar winds  lead to less massive stars. \n",
    "\n",
    "\n",
    "First of all se consider the file \"merger.out\" in which every line cointains information about a single compact objects binary system. We merge 0.012, 0.016 and 0.02 metallicities in order to increase the amount of data for high metallicities.\n",
    "We plot the distribution of masses for different metallicities and fMT:\n",
    "* $m_1$: mass of the primary compact object before merging;\n",
    "* $m_2$: mass of the secondary compact object before merging;\n",
    "* $m_{\\text{chirp}}$: main mass parameter experimentally derived from the frequency during in-spiral\n",
    "\\begin{equation*}\n",
    "            m_{\\text{chirp}} = \\frac{(m_1 m_2)^{3/5}}{(m_1+m_2)^{1/5}};\n",
    "\\end{equation*}\n",
    "* $m_{\\text{tot}}$: total mass, it is in particular given by the information at merger $ m_{\\text{tot}}  = (m_1+m_2) $;\n",
    "* $q$: mass ratio $q  = m_2/m_1 $\n",
    "\n",
    "and the distribution of delay times.\n",
    "\n",
    "Subsequently, we analize the file \"evol_merger.out\" which cointains summarized information about the entire evolution of the binary system, from the binary star system to merging and coalescence. In this way we can distinguish between systems which enter in Common Envelope e the ones which does not. Eventually we repeat an anologous analysis comparing these two kind of systems."
   ]
  },
  {
   "cell_type": "markdown",
   "metadata": {},
   "source": [
    "<br>\n",
    "\n",
    "## 4. Analysis of file “merger.out”<a class=\"anchor\" id=\"4.\"></a>\n",
    "* [Index](#index)\n",
    "\n",
    "We read the file “mergers.out”, putting together all chunks but keeping different metallicities Z and different mass transfer efficiencies fMT separated.\n",
    "In particular, we calculate and plot distribution of masses, mass ratios and merging times for different Z and different fMT. We compute also the fraction of flipped masses as a function of fMT."
   ]
  },
  {
   "cell_type": "code",
   "execution_count": null,
   "metadata": {},
   "outputs": [],
   "source": [
    "import pandas as pd\n",
    "import numpy as np\n",
    "import scipy as sp\n",
    "import seaborn as sns\n",
    "import matplotlib.pyplot as plt"
   ]
  },
  {
   "cell_type": "code",
   "execution_count": null,
   "metadata": {},
   "outputs": [],
   "source": [
    "# List following folders structure\n",
    "fMT = ['01','02','03','04','05','07','1']\n",
    "metal = ['0.0002','0.0004','0.0008','0.0012','0.0016','0.002','0.004','0.006','0.008','0.012','0.016','0.02']\n",
    "chunk = ['0','1','2','3','4']\n",
    "\n",
    "df_fMT = []\n",
    "\n",
    "\n",
    "for i in fMT:\n",
    "    df_metal = []\n",
    "\n",
    "    for j in metal:\n",
    "        df_chunk = []\n",
    "\n",
    "        for m in chunk:\n",
    "            # Read each single file in a specific path and load it in a Pandas Dataframe\n",
    "            path = '/data1/collaborator/modB/simulations_fMT'+i+'/A5/'+j+'/chunk'+m\n",
    "            cols = pd.read_csv(path+\"/mergers.out\",sep=\"\\s+\",nrows=1,header=None).iloc[0].values[1:]\n",
    "            df = pd.read_csv(path+\"/mergers.out\",sep=\"\\s+\",skiprows=1,header=None)\n",
    "            df.columns = cols\n",
    "            df = df.apply(pd.to_numeric, errors='ignore')\n",
    "            # Filter for BBH systems\n",
    "            df = df[df['k1form[7]']==14]\n",
    "            df = df[df['k2form[9]']==14]\n",
    "            # Ordering by m1>m2\n",
    "            mask = df['m2form[10]']>df['m1form[8]']\n",
    "            df['flip_mask'] = mask\n",
    "            df['m1form[8]'] = np.where(mask, df['m2form[10]'], df['m1form[8]'])\n",
    "            df['m2form[10]'] = np.where(mask, df['m1form[8]'], df['m2form[10]'])\n",
    "\n",
    "            df_chunk.append(df)\n",
    "\n",
    "        df_metal.append(pd.concat(df_chunk, ignore_index=True)) # Concatenation of dataframes of various chunks\n",
    "\n",
    "    # Concatenation of dataframes with metallicity 0.012, 0.016, 0.02\n",
    "    df_metal_u = pd.concat(df_metal[-3:],ignore_index=True)\n",
    "    df_metal = df_metal[:-3]\n",
    "    \n",
    "    df_metal.append(df_metal_u)\n",
    "\n",
    "    df_fMT.append(df_metal)"
   ]
  },
  {
   "cell_type": "code",
   "execution_count": 2,
   "metadata": {
    "ExecuteTime": {
     "end_time": "2020-07-18T11:03:41.531366Z",
     "start_time": "2020-07-18T11:03:41.493819Z"
    }
   },
   "outputs": [],
   "source": [
    "class plot_hist_fMT:\n",
    "\n",
    "    def mass_1(self,df,fMT,metal): #(dataframe,fMT,metal)\n",
    "\n",
    "        fig = plt.figure(figsize=(30,30))\n",
    "        ax = [fig.add_subplot(3,3,s) for s in range(1,len(fMT)+1)] #nrows,ncols,index\n",
    "        fig.suptitle('Plots of distribution of mass m1',fontsize=30)        \n",
    "        col = sns.color_palette(palette.viridis(len(metal)))\n",
    "\n",
    "        for i in range(0,len(fMT)):\n",
    "            for j in range(0,len(metal)):               \n",
    "                edge = np.logspace(np.log10(df[i][j]['m1form[8]'].min()), np.log10(df[i][j]['m1form[8]'].max()), 30)\n",
    "                sns.distplot(df[i][j]['m1form[8]'],bins=edge,kde=False,norm_hist=True,label=metal[j], \n",
    "                                hist_kws={\"histtype\": \"step\",\"lw\": 2},ax=ax[i],color=col[j])\n",
    "\n",
    "            ax[i].set_title('Distribution of mass m1 for fMT={}'.format(fMT[i]),fontsize=18)\n",
    "            ax[i].set_xlabel('m1 $[M_\\odot]$',fontsize=18)\n",
    "            ax[i].set_ylabel('Density',fontsize=18)\n",
    "            ax[i].legend(title='Metallicity',fontsize=14,title_fontsize=16)\n",
    "            ax[i].tick_params(axis=\"x\", labelsize=16)\n",
    "            ax[i].tick_params(axis=\"y\", labelsize=16)\n",
    "            ax[i].set_xscale('log')\n",
    "            ax[i].grid(True, which=\"both\", ls=\"-\",color='0.93')\n",
    "            ax[i].set_axisbelow(True)\n",
    "\n",
    "        if not os.path.isdir('./hist_fMT'):\n",
    "            os.mkdir('./hist_fMT')\n",
    "\n",
    "        plt.savefig('hist_fMT/hist_mass_1.pdf', format='pdf')\n",
    "        plt.close()\n",
    "        \n",
    "    def flip_fraction(self,df,fMT,metal):\n",
    "        # Plot fraction of flipped mass as function of fMT\n",
    "\n",
    "        num = []\n",
    "        den = []\n",
    "\n",
    "        for i in range(0,len(fMT)):\n",
    "            a = 0\n",
    "            b = 0\n",
    "            for j in range(0,len(metal)):\n",
    "                    a += sum(df[i][j]['flip_mask'])\n",
    "                    b += df[i][j]['flip_mask'].shape[0]\n",
    "            num.append(a)\n",
    "            den.append(b)\n",
    "                \n",
    "        x_fMT = [0.1, 0.2, 0.3, 0.4, 0.5, 0.7,1.0]\n",
    "        frac = np.array(num)/np.array(den)\n",
    "\n",
    "        fig, ax = plt.subplots(figsize=(10,10))\n",
    "        plt.plot(x_fMT,frac,'o',color='#440154')\n",
    "        ax.set_title('Fraction of flipped masses',fontsize=18)\n",
    "        ax.set_xlabel('fMT',fontsize=18)\n",
    "        ax.set_ylabel('Fraction',fontsize=18)\n",
    "        ax.tick_params(axis=\"x\", labelsize=16)\n",
    "        ax.tick_params(axis=\"y\", labelsize=16)\n",
    "        ax.grid(True, which=\"both\", ls=\"-\",color='0.93')\n",
    "        ax.set_axisbelow(True)           \n",
    "                    \n",
    "        if not os.path.isdir('./hist_fMT'):\n",
    "            os.mkdir('./hist_fMT')\n",
    "\n",
    "        plt.savefig('hist_fMT/fraction_fMT.pdf', format='pdf')\n",
    "        plt.close()"
   ]
  },
  {
   "cell_type": "markdown",
   "metadata": {},
   "source": [
    "### 4.1. Distribution of masses<a class=\"anchor\" id=\"4.1.\"></a>\n",
    "\n",
    "Distribution of mass $m_1$, $m_2$, chirp mass and total mass as a function of fMT. In particular, for each set of distribution, on the top plots are illustrated the normalized histograms for metallicity of 0.0002, while on the bottom for metallicity of 0.002. In the legend, the color related to each fMT is reported with the associated number of counts of the histograms."
   ]
  },
  {
   "cell_type": "markdown",
   "metadata": {},
   "source": [
    "<table>\n",
    "  <tr>\n",
    "    <td valign=\"top\"><img src=\"images/assignment1/hist_mass_1.png\"></td>\n",
    "    <td valign=\"top\"><img src=\"images/assignment1/hist_mass_2.png\"></td>\n",
    "  </tr>\n",
    " </table>"
   ]
  },
  {
   "cell_type": "markdown",
   "metadata": {},
   "source": [
    "<table>\n",
    "  <tr>\n",
    "    <td valign=\"top\"><img src=\"images/assignment1/hist_mass_chirp.png\"></td>\n",
    "    <td valign=\"top\"><img src=\"images/assignment1/hist_mass_tot.png\"></td>\n",
    "  </tr>\n",
    " </table>"
   ]
  },
  {
   "cell_type": "markdown",
   "metadata": {},
   "source": [
    "### 4.2. Distribution of mass ratios<a class=\"anchor\" id=\"4.2.\"></a>\n",
    "\n",
    "Distribution of mass ratio $q = m_2/m_1$ for different values of the metallicity. \n",
    "Left: on the top, we illustrate the distribution of mass ratio for systems with metallicity equal to 0.0002, while on the bottom for systems with metallicity 0.002.\n",
    "Right: on the top, we illustrate the distribution of mass ratio for systems with fMT= 0.1, while on the bottom for systems with fMT= 1."
   ]
  },
  {
   "cell_type": "markdown",
   "metadata": {},
   "source": [
    "<table>\n",
    "  <tr>\n",
    "    <td valign=\"top\"><img src=\"images/assignment1/hist_q.png\"></td>\n",
    "    <td valign=\"top\"><img src=\"images/assignment1/mass_ratio_2.png\"></td>\n",
    "  </tr>\n",
    " </table>"
   ]
  },
  {
   "cell_type": "markdown",
   "metadata": {},
   "source": [
    "### 4.3. Distribution of merging times<a class=\"anchor\" id=\"4.3.\"></a>\n",
    "\n",
    "On the left, the distribution of merging times for different metallicities is illustrated for fMT equal to 0.5. In the legend, the color related to each metallicity is reported with the associated number of counts of the histograms. On the right, the linear fit of the distributions are illustrated for metallicity of 0.0002 and 0.0004."
   ]
  },
  {
   "cell_type": "markdown",
   "metadata": {},
   "source": [
    "<table>\n",
    "  <tr>\n",
    "    <td valign=\"top\"><img src=\"images/assignment1/hist_time_tmerg.png\"></td>\n",
    "    <td valign=\"top\"><img src=\"images/assignment1/fit_hist_time_tmerg.png\"></td>\n",
    "  </tr>\n",
    " </table>"
   ]
  },
  {
   "cell_type": "markdown",
   "metadata": {},
   "source": [
    "### 4.4. Fraction of flipped masses<a class=\"anchor\" id=\"4.4.\"></a>\n",
    "\n",
    "Fraction of Binary Black Holes systems with flipped masses as a function of fMT."
   ]
  },
  {
   "cell_type": "markdown",
   "metadata": {},
   "source": [
    "<img src=\"images/assignment1/fraction_fMT.png\"\n",
    "     width=\"600px\" />"
   ]
  },
  {
   "cell_type": "markdown",
   "metadata": {},
   "source": [
    "<br>\n",
    "\n",
    "## 5. Analysis of file “evol_merger.out”<a class=\"anchor\" id=\"5.\"></a>\n",
    "* [Index](#index)\n",
    "\n",
    "We read the file **“evol_mergers.out”** which contains detailed information on compact object binaries that merge within a Hubble time (the time required for the Universe to expand to its present size, assuming that the Hubble constant has remained unchanged since the Big Bang.).\n",
    "\n",
    "In particular, we classify systems between systems those that go through **Common Envelope** and those that do not.\n",
    "\n",
    "We calculate and plot distribution of initial and final masses for different metallicities, different fMT and for systems which enter or not in Common Envelope.\n",
    "We compute also the fraction of CE systems as a function of fMT.\n",
    "Moreover, we plot the distribution of merging time, mass ratios and semi-major axis as a function of metallicity and fMT. Moreover, we make a scatter plot of m1 vs m2 for initial and final masses."
   ]
  },
  {
   "cell_type": "code",
   "execution_count": null,
   "metadata": {},
   "outputs": [],
   "source": [
    "from joblib import Parallel, delayed"
   ]
  },
  {
   "cell_type": "code",
   "execution_count": null,
   "metadata": {},
   "outputs": [],
   "source": [
    "fMT = ['01','02','03','04','05','07','1']\n",
    "metal = ['0.0002','0.0004','0.0008','0.0012','0.0016','0.002','0.004','0.006','0.008','0.012','0.016','0.02']\n",
    "chunk = ['0','1','2','3','4']\n",
    "\n",
    "# Read all chunks in parallel\n",
    "single_chunk = Parallel(n_jobs=32)(delayed(read_parallel.read_chunks)(i, j, m) for i in fMT for j in metal for m in chunk)\n",
    "\n",
    "# Filter data\n",
    "data_BH = [read_parallel.filter_chunks_BH(data) for data in single_chunk]\n",
    "data_CE = [read_parallel.filter_chunks_CE(data) for data in data_BH]\n",
    "data_nCE = [read_parallel.filter_chunks_nCE(data) for data in data_BH]\n",
    "\n",
    "data_CE_initial = [read_parallel.filter_chunks_initial(data) for data in data_CE]\n",
    "data_nCE_initial = [read_parallel.filter_chunks_initial(data) for data in data_nCE]\n",
    "\n",
    "data_CE_final = [read_parallel.filter_chunks_final(data) for data in data_CE]\n",
    "data_nCE_final = [read_parallel.filter_chunks_final(data) for data in data_nCE]\n",
    "\n",
    "data_CE_dtimes = [read_parallel.filter_chunks_dtimes(data) for data in data_CE]\n",
    "data_nCE_dtimes = [read_parallel.filter_chunks_dtimes(data) for data in data_nCE]\n",
    "\n",
    "\n",
    "# Organization of data in two new dataframe\n",
    "data_CE_filtered = []\n",
    "data_nCE_filtered = []\n",
    "\n",
    "for i in range(len(data_CE)):\n",
    "    frame_CE = {'m1_init' : np.array(data_CE_initial[i]['mt1[4]']),\n",
    "                'm2_init' : np.array(data_CE_initial[i]['mt2[18]']),\n",
    "                'm1_fin' : np.array(data_CE_final[i]['mt1[4]']),\n",
    "                'm2_fin' : np.array(data_CE_final[i]['mt2[18]']),\n",
    "                'sep'    : np.array(data_CE_final[i]['sep[31]']),\n",
    "                'dtimes' : np.array(data_CE_dtimes[i]['t_step[1]'])}\n",
    "    dataframe_CE = pd.DataFrame(frame_CE) \n",
    "    \n",
    "    frame_nCE = {'m1_init' : np.array(data_nCE_initial[i]['mt1[4]']),\n",
    "                 'm2_init' : np.array(data_nCE_initial[i]['mt2[18]']),\n",
    "                 'm1_fin' : np.array(data_nCE_final[i]['mt1[4]']),\n",
    "                 'm2_fin' : np.array(data_nCE_final[i]['mt2[18]']),\n",
    "                 'sep'    : np.array(data_nCE_final[i]['sep[31]']),\n",
    "                 'dtimes' : np.array(data_nCE_dtimes[i]['t_step[1]'])}\n",
    "    dataframe_nCE = pd.DataFrame(frame_nCE) \n",
    "    \n",
    "    data_CE_filtered.append(dataframe_CE)\n",
    "    data_nCE_filtered.append(dataframe_nCE)\n",
    "\n",
    "# Organization of data \n",
    "df_fMT_CE, df_fMT_nCE = read_parallel.organize_data(data_CE_filtered, data_nCE_filtered,fMT,metal,chunk)"
   ]
  },
  {
   "cell_type": "code",
   "execution_count": null,
   "metadata": {},
   "outputs": [],
   "source": [
    "class read_parallel:\n",
    "\n",
    "\n",
    "        # Read a single chunk of data with dask and joblib\n",
    "        def read_chunks(self,i, j, m):\n",
    "                cols = pd.read_csv('/data1/collaborator/modB/simulations_fMT01/A5/0.002/chunk0/evol_mergers.out',sep=\"\\s+\",nrows=1,header=None).iloc[0].values[1:]\n",
    "                path = '/data1/collaborator/modB/simulations_fMT'+i+'/A5/'+j+'/chunk'+m+'/evol_mergers.out'\n",
    "                columns_to_read = [cols[0],cols[1],cols[2],cols[4],cols[16],cols[18],cols[33]]   \n",
    "                dataframe = pd.read_csv(path,sep=\"\\s+\",skiprows=1,header=None,usecols=columns_to_read,names=cols)\n",
    "                return dataframe\n",
    "\n",
    "\n",
    "\n",
    "        # Filter a single chunk of data for black holes\n",
    "        def filter_chunks_BH(self,data):           \n",
    "                data_BH = data[ data['k1[2]']==14 ]\n",
    "                data_BH = data_BH[ data_BH['k2[16]']==14 ]\n",
    "                index_BH = list(data_BH['ID[0]'].unique()) \n",
    "                data_BH = data[ data['ID[0]'].isin(index_BH) ]       \n",
    "                return data_BH\n",
    "\n",
    "\n",
    "\n",
    "        # Filter a single chunk of data for common envelope\n",
    "        def filter_chunks_CE(self,data):      \n",
    "                data_CE = data[ data['label[33]']=='COMENV' ]\n",
    "                index_CE = list(data_CE['ID[0]'].unique()) \n",
    "                data_CE = data[ data['ID[0]'].isin(index_CE) ]     \n",
    "                return data_CE\n",
    "\n",
    "\n",
    "\n",
    "        # Filter a single chunk of data for no common envelope\n",
    "        def filter_chunks_nCE(self,data):\n",
    "                data_CE = data[ data['label[33]']=='COMENV' ]\n",
    "                index_CE = list(data_CE['ID[0]'].unique()) \n",
    "                data_nCE = data[ ~data['ID[0]'].isin(index_CE) ]\n",
    "                return data_nCE\n",
    "        \n",
    "\n",
    "\n",
    "        # Filter a single chunk of data for a initial mass\n",
    "        def filter_chunks_initial(self,data):\n",
    "                data = data[ data['label[33]']=='INITIAL' ]\n",
    "                return data\n",
    "        \n",
    "\n",
    "\n",
    "        # Filter a single chunk of data for final mass\n",
    "        def filter_chunks_final(self, data):\n",
    "                data = data[ data['k1[2]']==14 ]\n",
    "                data = data[ data['k2[16]']==14 ]\n",
    "                data = data.groupby('ID[0]').first().reset_index(drop=False)           \n",
    "                return data\n",
    "\n",
    "\n",
    "\n",
    "        # Filter a single chunk of data for delay times\n",
    "        def filter_chunks_dtimes(self, data):\n",
    "                data = data[ data['label[33]']=='COELESCE' ]\n",
    "                return data\n",
    "            \n",
    "            \n",
    "\n",
    "        # Organize data by reordering them\n",
    "        def organize_data(self,data_CE,data_nCE,fMT,metal,chunk):\n",
    "                df_fMT_CE = []\n",
    "                df_fMT_nCE = []\n",
    "                for i in fMT:\n",
    "                        df_metal_CE = []\n",
    "                        df_metal_nCE = []\n",
    "                        for j in metal:\n",
    "                                df_chunk_CE = []\n",
    "                                df_chunk_nCE = []\n",
    "                                for m in chunk:\n",
    "                                        # Read chunk with/without CE\n",
    "                                        df_CE = data_CE[fMT.index(i)*len(metal)*len(chunk)+metal.index(j)*len(chunk)+chunk.index(m)]\n",
    "                                        df_nCE = data_nCE[fMT.index(i)*len(metal)*len(chunk)+metal.index(j)*len(chunk)+chunk.index(m)]\n",
    "\n",
    "                                        df_chunk_CE.append(df_CE)\n",
    "                                        df_chunk_nCE.append(df_nCE)\n",
    "\n",
    "                                df_metal_CE.append(pd.concat(df_chunk_CE,ignore_index=True)) \n",
    "                                df_metal_nCE.append(pd.concat(df_chunk_nCE,ignore_index=True))\n",
    "                        \n",
    "                         # Concatenate all the metallicities\n",
    "                        df_metal_u_CE = pd.concat(df_metal_CE[:5],ignore_index=True)\n",
    "                        df_metal_CE.append(df_metal_u_CE)\n",
    "                        df_metal_u_nCE = pd.concat(df_metal_nCE[:5],ignore_index=True)\n",
    "                        df_metal_nCE.append(df_metal_u_nCE)\n",
    "                        \n",
    "                        df_fMT_CE.append(df_metal_CE)\n",
    "                        df_fMT_nCE.append(df_metal_nCE)\n",
    "\n",
    "                return df_fMT_CE, df_fMT_nCE"
   ]
  },
  {
   "cell_type": "markdown",
   "metadata": {},
   "source": [
    "### 5.1. Fraction of CE BH system<a class=\"anchor\" id=\"5.1.\"></a>\n",
    "\n",
    "Fraction of Binary Black Holes systems which enter in Common Envelope as a function of fMT."
   ]
  },
  {
   "cell_type": "markdown",
   "metadata": {},
   "source": [
    "<img src=\"images/assignment2/frac_CE.png\"\n",
    "     width=\"600px\" />"
   ]
  },
  {
   "cell_type": "markdown",
   "metadata": {},
   "source": [
    "Fraction of Binary Black Holes systems which enter in Common Envelope as a function of fMT for different metallicities."
   ]
  },
  {
   "cell_type": "markdown",
   "metadata": {
    "ExecuteTime": {
     "end_time": "2020-07-19T20:59:17.353355Z",
     "start_time": "2020-07-19T20:59:17.319539Z"
    }
   },
   "source": [
    "<img src=\"images/new/frac_CE_met.png\"\n",
    "     width=\"600px\" />"
   ]
  },
  {
   "cell_type": "markdown",
   "metadata": {},
   "source": [
    "### 5.2. Distribution of masses<a class=\"anchor\" id=\"5.2.\"></a>\n",
    "\n",
    "Distribution of initial and final mass for m1 and m2 as a function of fMT. In the legend, the color related to each fMT is reported with the associated number of counts of the histograms. Note that all the metallicities lower or equal than 0.002 are merged. In particular, for each set of distribution, on the top plots are illustrated the normalized histograms for system which enter in Common Envelope, while on the bottom for systems which do not enter."
   ]
  },
  {
   "cell_type": "markdown",
   "metadata": {},
   "source": [
    "<table>\n",
    "  <tr>\n",
    "    <td valign=\"top\"><img src=\"images/assignment2_1/hist_m1_init_fMT.png\"></td>\n",
    "    <td valign=\"top\"><img src=\"images/assignment2_1/hist_m2_init_fMT.png\"></td>\n",
    "  </tr>\n",
    " </table>"
   ]
  },
  {
   "cell_type": "markdown",
   "metadata": {},
   "source": [
    "<table>\n",
    "  <tr>\n",
    "    <td valign=\"top\"><img src=\"images/assignment2_1/hist_m1_fin_fMT.png\"></td>\n",
    "    <td valign=\"top\"><img src=\"images/assignment2_1/hist_m2_fin_fMT.png\"></td>\n",
    "  </tr>\n",
    " </table>"
   ]
  },
  {
   "cell_type": "markdown",
   "metadata": {},
   "source": [
    "### 5.3. Distribution of merging times<a class=\"anchor\" id=\"5.4.\"></a>\n",
    "\n",
    "Distribution of merging times for different fMT. On the top, the plot for systems which enter in Common Envelope is illustrated, while on the bottom for system which do not. In the legend, the color related to each fMT is reported with the associated number of counts of the histograms."
   ]
  },
  {
   "cell_type": "markdown",
   "metadata": {},
   "source": [
    " <img src=\"images/assignment2_1/hist_dtimes_fMT.png\"\n",
    "     width=\"600px\" />"
   ]
  },
  {
   "cell_type": "markdown",
   "metadata": {},
   "source": [
    "### 5.4. Distribution of mass ratios<a class=\"anchor\" id=\"5.3.\"></a>\n",
    "\n",
    "Distribution of mass ratio $q = m_2/m_1$ for different fMT with all the metallicities lower or equal than 0.002 are merged. On the left, we illustrate the distribution of mass ratio for systems which enter in Common Envelope, while on the right for systems which do not. In particular, for each kind of system, on the top, the plot for initial mass ratio is illustrated. On the middle, we illustrate the plot for final mass ratio, while on the bottom we illustrate the final mass ratio plot where the masses m1 and m2 are ordered such that is always satisfied the condition $m_1 > m_2$. In the legend, the color related to each fMT is reported with the associated number of counts of the histograms."
   ]
  },
  {
   "cell_type": "markdown",
   "metadata": {},
   "source": [
    "<table>\n",
    "  <tr>\n",
    "    <td valign=\"top\"><img src=\"images/assignment2_1/hist_q_fMT_CE.png\"></td>\n",
    "    <td valign=\"top\"><img src=\"images/assignment2_1/hist_q_fMT_nCE.png\"></td>\n",
    "  </tr>\n",
    " </table>"
   ]
  },
  {
   "cell_type": "markdown",
   "metadata": {},
   "source": [
    "### 5.5. Scatter plot of initial and final masses<a class=\"anchor\" id=\"5.6.\"></a>\n",
    "\n",
    "Scatter plot of initial and final masses for all fMT and all metallicities lower or equal than 0.002. On the left, we illustrate the scatter plots for initial and final masses for systems which enter in Common Envelope, while on the right for systems which do not enter in Common Envelope. In the plot, the number of points in the scatter plot is reported."
   ]
  },
  {
   "cell_type": "markdown",
   "metadata": {},
   "source": [
    "<table>\n",
    "  <tr>\n",
    "    <td valign=\"top\"><img src=\"images/assignment2_1/scatterInitial_masses.png\"></td>\n",
    "    <td valign=\"top\"><img src=\"images/assignment2_1/scatterFinal_masses.png\"></td>\n",
    "  </tr>\n",
    " </table>"
   ]
  },
  {
   "cell_type": "markdown",
   "metadata": {},
   "source": [
    "<table>\n",
    "  <tr>\n",
    "    <td valign=\"top\"><img src=\"images/new/scatterInitial_masses_fMT.png\"></td>\n",
    "    <td valign=\"top\"><img src=\"images/new/scatterFinal_masses_fMT.png\"></td>\n",
    "  </tr>\n",
    " </table>"
   ]
  },
  {
   "cell_type": "markdown",
   "metadata": {},
   "source": [
    "### 5.6. Distribution of semi-major axis<a class=\"anchor\" id=\"5.5.\"></a>\n",
    "\n",
    "Distribution of semi-major axis. On the left, we illustrate the distributions for different fMT (with all the metallicities lower or equal than 0.002 merged), while on the right for different metallicities (with all the data for different fMT merged). For each of them, on the top the plot for systems go through Common Envelope is illustrated, while on the bottom for system which do not go. In the legend, the color related to each fMT, or metallicity, is reported with the associated number of counts of the histograms."
   ]
  },
  {
   "cell_type": "markdown",
   "metadata": {},
   "source": [
    "<table>\n",
    "  <tr>\n",
    "    <td valign=\"top\"><img src=\"images/assignment2_1/hist_sep_fMT.png\"></td>\n",
    "    <td valign=\"top\"><img src=\"images/assignment2_1/hist_sep_metal.png\"></td>\n",
    "  </tr>\n",
    " </table>"
   ]
  },
  {
   "cell_type": "markdown",
   "metadata": {},
   "source": [
    "<br>\n",
    "\n",
    "## 6. Conclusions<a class=\"anchor\" id=\"6.\"></a>\n",
    "* [Index](#index)"
   ]
  },
  {
   "cell_type": "markdown",
   "metadata": {},
   "source": [
    "In this project, we analyze a set of about $10^9$ massive binary system generated  with  the  population  synthesis  code  MOBSE. Data has been analyzed on a remote machine with a Python script optimized for handling efficiently the massive amount of simulated data. Several histograms and plots has been produced in order to investigate relevant trends and correlations in Binary Black Holes formation as far as metallicity, mass transfer efficiency and Common Envelope are concerned.  In this report we show only the most relevant plots, while the complete set of plots and the scripts can be found in the following GitHub repository https://github.com/AlicePagano/LCP-Project-Classify-Black-Hole-Merger . \n",
    "Results shown substantially confirms our theoretical expectations proving our analysis to be free from significant criticalities. \n",
    "As discussed in Sec. III, some interesting features emerge from plotted distributions of masses, mass ratios and merging times, such as for example unexpected trends observed in the fraction CE/nCE plot and in the scatter plots.\n",
    "Further and deeper analysis are needed to confirm and understand these features."
   ]
  },
  {
   "cell_type": "code",
   "execution_count": null,
   "metadata": {},
   "outputs": [],
   "source": []
  }
 ],
 "metadata": {
  "kernelspec": {
   "display_name": "Python 3",
   "language": "python",
   "name": "python3"
  },
  "language_info": {
   "codemirror_mode": {
    "name": "ipython",
    "version": 3
   },
   "file_extension": ".py",
   "mimetype": "text/x-python",
   "name": "python",
   "nbconvert_exporter": "python",
   "pygments_lexer": "ipython3",
   "version": "3.7.4"
  },
  "varInspector": {
   "cols": {
    "lenName": 16,
    "lenType": 16,
    "lenVar": 40
   },
   "kernels_config": {
    "python": {
     "delete_cmd_postfix": "",
     "delete_cmd_prefix": "del ",
     "library": "var_list.py",
     "varRefreshCmd": "print(var_dic_list())"
    },
    "r": {
     "delete_cmd_postfix": ") ",
     "delete_cmd_prefix": "rm(",
     "library": "var_list.r",
     "varRefreshCmd": "cat(var_dic_list()) "
    }
   },
   "types_to_exclude": [
    "module",
    "function",
    "builtin_function_or_method",
    "instance",
    "_Feature"
   ],
   "window_display": false
  }
 },
 "nbformat": 4,
 "nbformat_minor": 4
}
